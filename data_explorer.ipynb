{
 "cells": [
  {
   "cell_type": "markdown",
   "metadata": {},
   "source": [
    "# Explorador de Datos y Detección de Anomalías en Series de Tiempo\n",
    "\n",
    "Este notebook demuestra el uso de la clase `TimeSeriesAnomalyDetector` para analizar series de tiempo y detectar anomalías utilizando diferentes métodos.\n",
    "\n",
    "## Contenido:\n",
    "1. Carga y preparación de datos\n",
    "2. Inicialización del detector de anomalías\n",
    "3. Aplicación de métodos de detección\n",
    "4. Visualización de resultados"
   ]
  },
  {
   "cell_type": "code",
   "execution_count": null,
   "metadata": {},
   "outputs": [],
   "source": [
    "# Importar librerías necesarias\n",
    "import pandas as pd\n",
    "import numpy as np\n",
    "from anomaly_detection import TimeSeriesAnomalyDetector\n",
    "import warnings\n",
    "warnings.filterwarnings('ignore')"
   ]
  },
  {
   "cell_type": "markdown",
   "metadata": {},
   "source": [
    "## 1. Carga y Exploración de Datos\n",
    "\n",
    "Cargamos la serie de tiempo desde el archivo CSV y realizamos una exploración inicial."
   ]
  },
  {
   "cell_type": "code",
   "execution_count": null,
   "metadata": {},
   "outputs": [],
   "source": [
    "# Cargar datos del CSV\n",
    "df = pd.read_csv('csv/time-series.csv')\n",
    "print(\"Primeras filas del dataset:\")\n",
    "df.head()"
   ]
  },
  {
   "cell_type": "code",
   "execution_count": null,
   "metadata": {},
   "outputs": [],
   "source": [
    "# Información general del dataset\n",
    "print(\"\\nInformación del dataset:\")\n",
    "df.info()\n",
    "\n",
    "print(\"\\nEstadísticas descriptivas:\")\n",
    "df.describe()"
   ]
  },
  {
   "cell_type": "code",
   "execution_count": null,
   "metadata": {},
   "outputs": [],
   "source": [
    "# Preparar el DataFrame para el análisis\n",
    "# Convertir Timestamp a datetime y establecer como índice\n",
    "df_prepared = df.copy()\n",
    "df_prepared['Timestamp'] = pd.to_datetime(df_prepared['Timestamp'])\n",
    "df_prepared.set_index('Timestamp', inplace=True)\n",
    "df_prepared['Value'] = pd.to_numeric(df_prepared['Value'], errors='coerce')\n",
    "\n",
    "print(\"Datos preparados (la limpieza se hace automáticamente en add_series):\")\n",
    "df_prepared.head()"
   ]
  },
  {
   "cell_type": "markdown",
   "metadata": {},
   "source": [
    "## 2. Inicialización del Detector de Anomalías\n",
    "\n",
    "Creamos una instancia de `TimeSeriesAnomalyDetector` y agregamos nuestra serie de tiempo."
   ]
  },
  {
   "cell_type": "code",
   "execution_count": null,
   "metadata": {},
   "outputs": [],
   "source": [
    "# Inicializar el detector\n",
    "detector = TimeSeriesAnomalyDetector()\n",
    "\n",
    "# Agregar la serie de tiempo (la limpieza se hace automáticamente)\n",
    "detector.add_series('SeriePrincipal', df_prepared)\n",
    "\n",
    "print(\"Serie agregada exitosamente.\")\n",
    "print(f\"Series disponibles: {list(detector.dataframes.keys())}\")\n",
    "print(f\"Forma de los datos limpios: {detector.dataframes['SeriePrincipal'].shape}\")"
   ]
  },
  {
   "cell_type": "markdown",
   "metadata": {},
   "source": [
    "## 3. Aplicación de Métodos de Detección de Anomalías\n",
    "\n",
    "Aplicamos el método Isolation Forest para detectar anomalías en la serie de tiempo."
   ]
  },
  {
   "cell_type": "code",
   "execution_count": null,
   "metadata": {},
   "outputs": [],
   "source": [
    "# Aplicar Isolation Forest\n",
    "detector.apply_isolation_forest(\n",
    "    series_name='SeriePrincipal',\n",
    "    target_col='Value',\n",
    "    n_estimators=100,\n",
    "    contamination=0.01  # Esperamos 1% de anomalías\n",
    ")\n",
    "\n",
    "print(\"Isolation Forest aplicado exitosamente.\")"
   ]
  },
  {
   "cell_type": "code",
   "execution_count": null,
   "metadata": {},
   "outputs": [],
   "source": [
    "# Verificar resultados\n",
    "results = detector.results['SeriePrincipal']\n",
    "print(\"Resultados de la detección:\")\n",
    "print(results.head())\n",
    "\n",
    "# Contar anomalías detectadas\n",
    "anomalies_count = (results['is_anomaly_IF'] == -1).sum()\n",
    "total_points = len(results)\n",
    "print(f\"\\nAnomalías detectadas: {anomalies_count} de {total_points} puntos ({anomalies_count/total_points*100:.2f}%)\")"
   ]
  },
  {
   "cell_type": "markdown",
   "metadata": {},
   "source": [
    "## 4. Visualización de Resultados\n",
    "\n",
    "Creamos una visualización interactiva que muestra la serie de tiempo y las anomalías detectadas."
   ]
  },
  {
   "cell_type": "code",
   "execution_count": null,
   "metadata": {},
   "outputs": [],
   "source": [
    "# Crear visualización\n",
    "fig = detector.plot_anomalies(\n",
    "    series_name='SeriePrincipal',\n",
    "    target_col='Value',\n",
    "    methods_to_plot=['IF']  # IF = Isolation Forest\n",
    ")\n",
    "\n",
    "# Mostrar el gráfico\n",
    "fig.show()"
   ]
  },
  {
   "cell_type": "markdown",
   "metadata": {},
   "source": [
    "## 5. Análisis Adicional\n",
    "\n",
    "Exploramos más detalles sobre las anomalías detectadas."
   ]
  },
  {
   "cell_type": "code",
   "execution_count": null,
   "metadata": {},
   "outputs": [],
   "source": [
    "# Obtener las anomalías detectadas\n",
    "anomalies = results[results['is_anomaly_IF'] == -1]\n",
    "print(\"Anomalías detectadas (primeras 10):\")\n",
    "print(anomalies.head(10))\n",
    "\n",
    "# Estadísticas de las anomalías\n",
    "if len(anomalies) > 0:\n",
    "    print(\"\\nEstadísticas de las anomalías:\")\n",
    "    anomaly_values = df_prepared.loc[anomalies.index, 'Value']\n",
    "    print(anomaly_values.describe())\n",
    "    \n",
    "    # Comparar con valores normales\n",
    "    normal_values = df_prepared.loc[results[results['is_anomaly_IF'] == 1].index, 'Value']\n",
    "    print(\"\\nEstadísticas de valores normales:\")\n",
    "    print(normal_values.describe())"
   ]
  },
  {
   "cell_type": "markdown",
   "metadata": {},
   "source": [
    "## 6. Extensión a Múltiples Series (Ejemplo)\n",
    "\n",
    "Demostramos cómo agregar múltiples series de tiempo al detector."
   ]
  },
  {
   "cell_type": "code",
   "execution_count": null,
   "metadata": {},
   "outputs": [],
   "source": [
    "# Crear una segunda serie con algunos valores atípicos para demostración\n",
    "df2 = df_prepared.copy()\n",
    "df2['Value'] = df2['Value'] * 3 # Modificar ligeramente\n",
    "\n",
    "# Agregar algunos valores atípicos\n",
    "outlier_indices = df2.sample(frac=0.02).index  # 2% de outliers\n",
    "df2.loc[outlier_indices, 'Value'] = df2.loc[outlier_indices, 'Value'] * 4\n",
    "\n",
    "# Agregar la segunda serie\n",
    "detector.add_series('SerieModificada', df2)\n",
    "\n",
    "print(\"Segunda serie agregada.\")\n",
    "print(f\"Series disponibles: {list(detector.dataframes.keys())}\")"
   ]
  },
  {
   "cell_type": "code",
   "execution_count": null,
   "metadata": {},
   "outputs": [],
   "source": [
    "# Aplicar análisis a la segunda serie\n",
    "detector.apply_isolation_forest(\n",
    "    series_name='SerieModificada',\n",
    "    target_col='Value',\n",
    "    contamination=0.02  # Más contaminación esperada\n",
    ")\n",
    "\n",
    "# Visualizar comparación\n",
    "fig2 = detector.plot_anomalies(\n",
    "    series_name='SerieModificada',\n",
    "    target_col='Value',\n",
    "    methods_to_plot=['IF']\n",
    ")\n",
    "\n",
    "fig2.show()"
   ]
  },
  {
   "cell_type": "markdown",
   "metadata": {},
   "source": [
    "## Conclusiones\n",
    "\n",
    "Este notebook ha demostrado:\n",
    "\n",
    "1. **Carga y preparación** de datos de series de tiempo\n",
    "2. **Uso de la clase TimeSeriesAnomalyDetector** para análisis flexible\n",
    "3. **Aplicación de Isolation Forest** para detección de anomalías\n",
    "4. **Visualización interactiva** con Plotly\n",
    "5. **Extensibilidad** para múltiples series y métodos futuros\n",
    "\n",
    "La clase está diseñada para ser fácilmente extensible con nuevos métodos de detección de anomalías como One-Class SVM, Hampel Filter, etc."
   ]
  }
 ],
 "metadata": {
  "kernelspec": {
   "display_name": "Python 3",
   "language": "python",
   "name": "python3"
  },
  "language_info": {
   "codemirror_mode": {
    "name": "ipython",
    "version": 3
   },
   "file_extension": ".py",
   "mimetype": "text/x-python",
   "name": "python",
   "nbconvert_exporter": "python",
   "pygments_lexer": "ipython3",
   "version": "3.8.5"
  }
 },
 "nbformat": 4,
 "nbformat_minor": 4
}
